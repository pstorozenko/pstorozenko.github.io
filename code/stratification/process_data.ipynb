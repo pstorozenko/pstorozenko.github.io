{
 "cells": [
  {
   "cell_type": "code",
   "execution_count": 1,
   "metadata": {},
   "outputs": [],
   "source": [
    "import pandas as pd\n",
    "import numpy as np"
   ]
  },
  {
   "cell_type": "code",
   "execution_count": 2,
   "metadata": {},
   "outputs": [],
   "source": [
    "rng = np.random.default_rng(42)"
   ]
  },
  {
   "cell_type": "code",
   "execution_count": 3,
   "metadata": {},
   "outputs": [],
   "source": [
    "seasons = [\"Spring\", \"Summer\", \"Winter\", \"Fall\"]"
   ]
  },
  {
   "cell_type": "code",
   "execution_count": 4,
   "metadata": {},
   "outputs": [],
   "source": [
    "n = 15\n",
    "df = pd.DataFrame({\n",
    "    'Name': [\"Alice\", \"Bob\", \"Cecily\", \"Dan\", \"Eve\", \"Felix\", \"George\", \"Jan\", \"Małgosia\", \"John\", \"Bart\", \"Fryderyk\", \"Ann\", \"Eva\", \"Ola\"],\n",
    "    'Sex': [\"F\", \"M\", \"F\", \"M\", \"F\", \"M\", \"M\", \"M\", \"F\", \"M\", \"M\", \"M\", \"F\", \"F\", \"F\"],\n",
    "    'Age': rng.choice(np.arange(20, 60), n),\n",
    "    'Nationality': [\"UK\", \"UK\", \"BE\", \"BE\", \"UK\", \"PL\", \"BE\", \"PL\", \"PL\", \"UK\", \"BE\", \"PL\", \"UK\", \"BE\", \"PL\"],\n",
    "    \"FavoriteSeason\": rng.choice(seasons, n),\n",
    "})"
   ]
  },
  {
   "cell_type": "code",
   "execution_count": 5,
   "metadata": {},
   "outputs": [
    {
     "name": "stdout",
     "output_type": "stream",
     "text": [
      "|    | Name     | Sex   |   Age | Nationality   | FavoriteSeason   |\n",
      "|---:|:---------|:------|------:|:--------------|:-----------------|\n",
      "|  0 | Alice    | F     |    23 | UK            | Fall             |\n",
      "|  1 | Bob      | M     |    50 | UK            | Winter           |\n",
      "|  2 | Cecily   | F     |    46 | BE            | Spring           |\n",
      "|  3 | Dan      | M     |    37 | BE            | Fall             |\n",
      "|  4 | Eve      | F     |    37 | UK            | Summer           |\n",
      "|  5 | Felix    | M     |    54 | PL            | Winter           |\n",
      "|  6 | George   | M     |    23 | BE            | Summer           |\n",
      "|  7 | Jan      | M     |    47 | PL            | Spring           |\n",
      "|  8 | Małgosia | F     |    28 | PL            | Fall             |\n",
      "|  9 | John     | M     |    23 | UK            | Fall             |\n",
      "| 10 | Bart     | M     |    41 | BE            | Winter           |\n",
      "| 11 | Fryderyk | M     |    59 | PL            | Summer           |\n",
      "| 12 | Ann      | F     |    49 | UK            | Fall             |\n",
      "| 13 | Eva      | F     |    50 | BE            | Winter           |\n",
      "| 14 | Ola      | F     |    48 | PL            | Summer           |\n"
     ]
    }
   ],
   "source": [
    "print(df.to_markdown())"
   ]
  },
  {
   "cell_type": "code",
   "execution_count": 7,
   "metadata": {},
   "outputs": [],
   "source": [
    "df.to_csv(\"data/simple_data.csv\",index=False)"
   ]
  },
  {
   "cell_type": "code",
   "execution_count": null,
   "metadata": {},
   "outputs": [],
   "source": []
  }
 ],
 "metadata": {
  "kernelspec": {
   "display_name": "Python 3.10.6 ('p10')",
   "language": "python",
   "name": "python3"
  },
  "language_info": {
   "codemirror_mode": {
    "name": "ipython",
    "version": 3
   },
   "file_extension": ".py",
   "mimetype": "text/x-python",
   "name": "python",
   "nbconvert_exporter": "python",
   "pygments_lexer": "ipython3",
   "version": "3.10.6"
  },
  "orig_nbformat": 4,
  "vscode": {
   "interpreter": {
    "hash": "44c2f00b840a053f72bb410abb698bdd8c78e3e419bf83cb1d4c6dcd2f9bd34e"
   }
  }
 },
 "nbformat": 4,
 "nbformat_minor": 2
}
