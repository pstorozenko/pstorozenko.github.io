{
 "cells": [
  {
   "cell_type": "code",
   "execution_count": 1,
   "id": "d7227c4b-58b6-469e-9d81-09896a606ca4",
   "metadata": {},
   "outputs": [],
   "source": [
    "library(\"data.table\")"
   ]
  },
  {
   "cell_type": "code",
   "execution_count": 2,
   "id": "ea003246-db67-497c-8772-d6de1f95743b",
   "metadata": {},
   "outputs": [],
   "source": [
    "dt = fread(\"data//simple_data.csv\")"
   ]
  },
  {
   "cell_type": "code",
   "execution_count": 3,
   "id": "112d5063-935d-467d-9840-737df2d6b735",
   "metadata": {},
   "outputs": [],
   "source": [
    "train_frac = 0.6"
   ]
  },
  {
   "cell_type": "code",
   "execution_count": 4,
   "id": "d3cae5d3-a978-4754-abde-460e36b4d499",
   "metadata": {},
   "outputs": [
    {
     "data": {
      "text/html": [
       "<table class=\"dataframe\">\n",
       "<caption>A data.table: 15 × 6</caption>\n",
       "<thead>\n",
       "\t<tr><th scope=col>Name</th><th scope=col>Sex</th><th scope=col>Age</th><th scope=col>Nationality</th><th scope=col>FavoriteSeason</th><th scope=col>Split</th></tr>\n",
       "\t<tr><th scope=col>&lt;chr&gt;</th><th scope=col>&lt;chr&gt;</th><th scope=col>&lt;int&gt;</th><th scope=col>&lt;chr&gt;</th><th scope=col>&lt;chr&gt;</th><th scope=col>&lt;chr&gt;</th></tr>\n",
       "</thead>\n",
       "<tbody>\n",
       "\t<tr><td>Alice   </td><td>F</td><td>23</td><td>UK</td><td>Fall  </td><td>Train</td></tr>\n",
       "\t<tr><td>Bob     </td><td>M</td><td>50</td><td>UK</td><td>Winter</td><td>Val  </td></tr>\n",
       "\t<tr><td>Cecily  </td><td>F</td><td>46</td><td>BE</td><td>Spring</td><td>Val  </td></tr>\n",
       "\t<tr><td>Dan     </td><td>M</td><td>37</td><td>BE</td><td>Fall  </td><td>Train</td></tr>\n",
       "\t<tr><td>Eve     </td><td>F</td><td>37</td><td>UK</td><td>Summer</td><td>Val  </td></tr>\n",
       "\t<tr><td>Felix   </td><td>M</td><td>54</td><td>PL</td><td>Winter</td><td>Val  </td></tr>\n",
       "\t<tr><td>George  </td><td>M</td><td>23</td><td>BE</td><td>Summer</td><td>Val  </td></tr>\n",
       "\t<tr><td>Jan     </td><td>M</td><td>47</td><td>PL</td><td>Spring</td><td>Train</td></tr>\n",
       "\t<tr><td>Małgosia</td><td>F</td><td>28</td><td>PL</td><td>Fall  </td><td>Val  </td></tr>\n",
       "\t<tr><td>John    </td><td>M</td><td>23</td><td>UK</td><td>Fall  </td><td>Train</td></tr>\n",
       "\t<tr><td>Bart    </td><td>M</td><td>41</td><td>BE</td><td>Winter</td><td>Train</td></tr>\n",
       "\t<tr><td>Fryderyk</td><td>M</td><td>59</td><td>PL</td><td>Summer</td><td>Train</td></tr>\n",
       "\t<tr><td>Ann     </td><td>F</td><td>49</td><td>UK</td><td>Fall  </td><td>Train</td></tr>\n",
       "\t<tr><td>Eva     </td><td>F</td><td>50</td><td>BE</td><td>Winter</td><td>Train</td></tr>\n",
       "\t<tr><td>Ola     </td><td>F</td><td>48</td><td>PL</td><td>Summer</td><td>Train</td></tr>\n",
       "</tbody>\n",
       "</table>\n"
      ],
      "text/latex": [
       "A data.table: 15 × 6\n",
       "\\begin{tabular}{llllll}\n",
       " Name & Sex & Age & Nationality & FavoriteSeason & Split\\\\\n",
       " <chr> & <chr> & <int> & <chr> & <chr> & <chr>\\\\\n",
       "\\hline\n",
       "\t Alice    & F & 23 & UK & Fall   & Train\\\\\n",
       "\t Bob      & M & 50 & UK & Winter & Val  \\\\\n",
       "\t Cecily   & F & 46 & BE & Spring & Val  \\\\\n",
       "\t Dan      & M & 37 & BE & Fall   & Train\\\\\n",
       "\t Eve      & F & 37 & UK & Summer & Val  \\\\\n",
       "\t Felix    & M & 54 & PL & Winter & Val  \\\\\n",
       "\t George   & M & 23 & BE & Summer & Val  \\\\\n",
       "\t Jan      & M & 47 & PL & Spring & Train\\\\\n",
       "\t Małgosia & F & 28 & PL & Fall   & Val  \\\\\n",
       "\t John     & M & 23 & UK & Fall   & Train\\\\\n",
       "\t Bart     & M & 41 & BE & Winter & Train\\\\\n",
       "\t Fryderyk & M & 59 & PL & Summer & Train\\\\\n",
       "\t Ann      & F & 49 & UK & Fall   & Train\\\\\n",
       "\t Eva      & F & 50 & BE & Winter & Train\\\\\n",
       "\t Ola      & F & 48 & PL & Summer & Train\\\\\n",
       "\\end{tabular}\n"
      ],
      "text/markdown": [
       "\n",
       "A data.table: 15 × 6\n",
       "\n",
       "| Name &lt;chr&gt; | Sex &lt;chr&gt; | Age &lt;int&gt; | Nationality &lt;chr&gt; | FavoriteSeason &lt;chr&gt; | Split &lt;chr&gt; |\n",
       "|---|---|---|---|---|---|\n",
       "| Alice    | F | 23 | UK | Fall   | Train |\n",
       "| Bob      | M | 50 | UK | Winter | Val   |\n",
       "| Cecily   | F | 46 | BE | Spring | Val   |\n",
       "| Dan      | M | 37 | BE | Fall   | Train |\n",
       "| Eve      | F | 37 | UK | Summer | Val   |\n",
       "| Felix    | M | 54 | PL | Winter | Val   |\n",
       "| George   | M | 23 | BE | Summer | Val   |\n",
       "| Jan      | M | 47 | PL | Spring | Train |\n",
       "| Małgosia | F | 28 | PL | Fall   | Val   |\n",
       "| John     | M | 23 | UK | Fall   | Train |\n",
       "| Bart     | M | 41 | BE | Winter | Train |\n",
       "| Fryderyk | M | 59 | PL | Summer | Train |\n",
       "| Ann      | F | 49 | UK | Fall   | Train |\n",
       "| Eva      | F | 50 | BE | Winter | Train |\n",
       "| Ola      | F | 48 | PL | Summer | Train |\n",
       "\n"
      ],
      "text/plain": [
       "   Name     Sex Age Nationality FavoriteSeason Split\n",
       "1  Alice    F   23  UK          Fall           Train\n",
       "2  Bob      M   50  UK          Winter         Val  \n",
       "3  Cecily   F   46  BE          Spring         Val  \n",
       "4  Dan      M   37  BE          Fall           Train\n",
       "5  Eve      F   37  UK          Summer         Val  \n",
       "6  Felix    M   54  PL          Winter         Val  \n",
       "7  George   M   23  BE          Summer         Val  \n",
       "8  Jan      M   47  PL          Spring         Train\n",
       "9  Małgosia F   28  PL          Fall           Val  \n",
       "10 John     M   23  UK          Fall           Train\n",
       "11 Bart     M   41  BE          Winter         Train\n",
       "12 Fryderyk M   59  PL          Summer         Train\n",
       "13 Ann      F   49  UK          Fall           Train\n",
       "14 Eva      F   50  BE          Winter         Train\n",
       "15 Ola      F   48  PL          Summer         Train"
      ]
     },
     "metadata": {},
     "output_type": "display_data"
    }
   ],
   "source": [
    "set.seed(42)\n",
    "dt[, Split := ifelse(sample((1:.N) <= .N*train_frac), \"Train\", \"Val\"), Nationality]\n",
    "dt"
   ]
  },
  {
   "cell_type": "markdown",
   "id": "bb76a5dd-93e1-41b4-986e-1edb41f47f48",
   "metadata": {},
   "source": [
    "## Benchmark"
   ]
  },
  {
   "cell_type": "code",
   "execution_count": 5,
   "id": "50bb94bb-26ca-4659-828c-53358dfc8f85",
   "metadata": {},
   "outputs": [],
   "source": [
    "benchmark_stratification <- function() {\n",
    "    dt = fread(\"data//simple_data_copied.csv\")\n",
    "    dt[, Split := ifelse(sample((1:.N) <= .N*train_frac), \"Train\", \"Val\"), Nationality]\n",
    "    dt\n",
    "}"
   ]
  },
  {
   "cell_type": "code",
   "execution_count": 6,
   "id": "79b78b7f-1b6c-43b9-bbbd-64df087ae27a",
   "metadata": {},
   "outputs": [
    {
     "data": {
      "text/plain": [
       "Time difference of 0.8300476 secs"
      ]
     },
     "metadata": {},
     "output_type": "display_data"
    }
   ],
   "source": [
    "start_time <- Sys.time()\n",
    "benchmark_stratification()\n",
    "end_time <- Sys.time()\n",
    "\n",
    "end_time - start_time"
   ]
  },
  {
   "cell_type": "code",
   "execution_count": null,
   "id": "e46b09e0-b7a9-416f-9f7e-95272d4633e0",
   "metadata": {},
   "outputs": [],
   "source": []
  }
 ],
 "metadata": {
  "kernelspec": {
   "display_name": "R",
   "language": "R",
   "name": "ir"
  },
  "language_info": {
   "codemirror_mode": "r",
   "file_extension": ".r",
   "mimetype": "text/x-r-source",
   "name": "R",
   "pygments_lexer": "r",
   "version": "4.2.2"
  }
 },
 "nbformat": 4,
 "nbformat_minor": 5
}
