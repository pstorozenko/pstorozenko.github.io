{
 "cells": [
  {
   "cell_type": "code",
   "execution_count": 1,
   "metadata": {},
   "outputs": [],
   "source": [
    "using CSV\n",
    "using DataFrames\n",
    "using Random"
   ]
  },
  {
   "cell_type": "code",
   "execution_count": 2,
   "metadata": {},
   "outputs": [
    {
     "data": {
      "text/html": [
       "<div><div style = \"float: left;\"><span>15×5 DataFrame</span></div><div style = \"clear: both;\"></div></div><div class = \"data-frame\" style = \"overflow-x: scroll;\"><table class = \"data-frame\" style = \"margin-bottom: 6px;\"><thead><tr class = \"header\"><th class = \"rowNumber\" style = \"font-weight: bold; text-align: right;\">Row</th><th style = \"text-align: left;\">Name</th><th style = \"text-align: left;\">Sex</th><th style = \"text-align: left;\">Age</th><th style = \"text-align: left;\">Nationality</th><th style = \"text-align: left;\">FavoriteSeason</th></tr><tr class = \"subheader headerLastRow\"><th class = \"rowNumber\" style = \"font-weight: bold; text-align: right;\"></th><th title = \"String15\" style = \"text-align: left;\">String15</th><th title = \"String1\" style = \"text-align: left;\">String1</th><th title = \"Int64\" style = \"text-align: left;\">Int64</th><th title = \"String3\" style = \"text-align: left;\">String3</th><th title = \"String7\" style = \"text-align: left;\">String7</th></tr></thead><tbody><tr><td class = \"rowNumber\" style = \"font-weight: bold; text-align: right;\">1</td><td style = \"text-align: left;\">Alice</td><td style = \"text-align: left;\">F</td><td style = \"text-align: right;\">23</td><td style = \"text-align: left;\">UK</td><td style = \"text-align: left;\">Fall</td></tr><tr><td class = \"rowNumber\" style = \"font-weight: bold; text-align: right;\">2</td><td style = \"text-align: left;\">Bob</td><td style = \"text-align: left;\">M</td><td style = \"text-align: right;\">50</td><td style = \"text-align: left;\">UK</td><td style = \"text-align: left;\">Winter</td></tr><tr><td class = \"rowNumber\" style = \"font-weight: bold; text-align: right;\">3</td><td style = \"text-align: left;\">Cecily</td><td style = \"text-align: left;\">F</td><td style = \"text-align: right;\">46</td><td style = \"text-align: left;\">BE</td><td style = \"text-align: left;\">Spring</td></tr><tr><td class = \"rowNumber\" style = \"font-weight: bold; text-align: right;\">4</td><td style = \"text-align: left;\">Dan</td><td style = \"text-align: left;\">M</td><td style = \"text-align: right;\">37</td><td style = \"text-align: left;\">BE</td><td style = \"text-align: left;\">Fall</td></tr><tr><td class = \"rowNumber\" style = \"font-weight: bold; text-align: right;\">5</td><td style = \"text-align: left;\">Eve</td><td style = \"text-align: left;\">F</td><td style = \"text-align: right;\">37</td><td style = \"text-align: left;\">UK</td><td style = \"text-align: left;\">Summer</td></tr><tr><td class = \"rowNumber\" style = \"font-weight: bold; text-align: right;\">6</td><td style = \"text-align: left;\">Felix</td><td style = \"text-align: left;\">M</td><td style = \"text-align: right;\">54</td><td style = \"text-align: left;\">PL</td><td style = \"text-align: left;\">Winter</td></tr><tr><td class = \"rowNumber\" style = \"font-weight: bold; text-align: right;\">7</td><td style = \"text-align: left;\">George</td><td style = \"text-align: left;\">M</td><td style = \"text-align: right;\">23</td><td style = \"text-align: left;\">BE</td><td style = \"text-align: left;\">Summer</td></tr><tr><td class = \"rowNumber\" style = \"font-weight: bold; text-align: right;\">8</td><td style = \"text-align: left;\">Jan</td><td style = \"text-align: left;\">M</td><td style = \"text-align: right;\">47</td><td style = \"text-align: left;\">PL</td><td style = \"text-align: left;\">Spring</td></tr><tr><td class = \"rowNumber\" style = \"font-weight: bold; text-align: right;\">9</td><td style = \"text-align: left;\">Małgosia</td><td style = \"text-align: left;\">F</td><td style = \"text-align: right;\">28</td><td style = \"text-align: left;\">PL</td><td style = \"text-align: left;\">Fall</td></tr><tr><td class = \"rowNumber\" style = \"font-weight: bold; text-align: right;\">10</td><td style = \"text-align: left;\">John</td><td style = \"text-align: left;\">M</td><td style = \"text-align: right;\">23</td><td style = \"text-align: left;\">UK</td><td style = \"text-align: left;\">Fall</td></tr><tr><td class = \"rowNumber\" style = \"font-weight: bold; text-align: right;\">11</td><td style = \"text-align: left;\">Bart</td><td style = \"text-align: left;\">M</td><td style = \"text-align: right;\">41</td><td style = \"text-align: left;\">BE</td><td style = \"text-align: left;\">Winter</td></tr><tr><td class = \"rowNumber\" style = \"font-weight: bold; text-align: right;\">12</td><td style = \"text-align: left;\">Fryderyk</td><td style = \"text-align: left;\">M</td><td style = \"text-align: right;\">59</td><td style = \"text-align: left;\">PL</td><td style = \"text-align: left;\">Summer</td></tr><tr><td class = \"rowNumber\" style = \"font-weight: bold; text-align: right;\">13</td><td style = \"text-align: left;\">Ann</td><td style = \"text-align: left;\">F</td><td style = \"text-align: right;\">49</td><td style = \"text-align: left;\">UK</td><td style = \"text-align: left;\">Fall</td></tr><tr><td class = \"rowNumber\" style = \"font-weight: bold; text-align: right;\">14</td><td style = \"text-align: left;\">Eva</td><td style = \"text-align: left;\">F</td><td style = \"text-align: right;\">50</td><td style = \"text-align: left;\">BE</td><td style = \"text-align: left;\">Winter</td></tr><tr><td class = \"rowNumber\" style = \"font-weight: bold; text-align: right;\">15</td><td style = \"text-align: left;\">Ola</td><td style = \"text-align: left;\">F</td><td style = \"text-align: right;\">48</td><td style = \"text-align: left;\">PL</td><td style = \"text-align: left;\">Summer</td></tr></tbody></table></div>"
      ],
      "text/latex": [
       "\\begin{tabular}{r|ccccc}\n",
       "\t& Name & Sex & Age & Nationality & FavoriteSeason\\\\\n",
       "\t\\hline\n",
       "\t& String15 & String1 & Int64 & String3 & String7\\\\\n",
       "\t\\hline\n",
       "\t1 & Alice & F & 23 & UK & Fall \\\\\n",
       "\t2 & Bob & M & 50 & UK & Winter \\\\\n",
       "\t3 & Cecily & F & 46 & BE & Spring \\\\\n",
       "\t4 & Dan & M & 37 & BE & Fall \\\\\n",
       "\t5 & Eve & F & 37 & UK & Summer \\\\\n",
       "\t6 & Felix & M & 54 & PL & Winter \\\\\n",
       "\t7 & George & M & 23 & BE & Summer \\\\\n",
       "\t8 & Jan & M & 47 & PL & Spring \\\\\n",
       "\t9 & Małgosia & F & 28 & PL & Fall \\\\\n",
       "\t10 & John & M & 23 & UK & Fall \\\\\n",
       "\t11 & Bart & M & 41 & BE & Winter \\\\\n",
       "\t12 & Fryderyk & M & 59 & PL & Summer \\\\\n",
       "\t13 & Ann & F & 49 & UK & Fall \\\\\n",
       "\t14 & Eva & F & 50 & BE & Winter \\\\\n",
       "\t15 & Ola & F & 48 & PL & Summer \\\\\n",
       "\\end{tabular}\n"
      ],
      "text/plain": [
       "\u001b[1m15×5 DataFrame\u001b[0m\n",
       "\u001b[1m Row \u001b[0m│\u001b[1m Name     \u001b[0m\u001b[1m Sex     \u001b[0m\u001b[1m Age   \u001b[0m\u001b[1m Nationality \u001b[0m\u001b[1m FavoriteSeason \u001b[0m\n",
       "     │\u001b[90m String15 \u001b[0m\u001b[90m String1 \u001b[0m\u001b[90m Int64 \u001b[0m\u001b[90m String3     \u001b[0m\u001b[90m String7        \u001b[0m\n",
       "─────┼───────────────────────────────────────────────────────\n",
       "   1 │ Alice     F           23  UK           Fall\n",
       "   2 │ Bob       M           50  UK           Winter\n",
       "   3 │ Cecily    F           46  BE           Spring\n",
       "   4 │ Dan       M           37  BE           Fall\n",
       "   5 │ Eve       F           37  UK           Summer\n",
       "   6 │ Felix     M           54  PL           Winter\n",
       "   7 │ George    M           23  BE           Summer\n",
       "   8 │ Jan       M           47  PL           Spring\n",
       "   9 │ Małgosia  F           28  PL           Fall\n",
       "  10 │ John      M           23  UK           Fall\n",
       "  11 │ Bart      M           41  BE           Winter\n",
       "  12 │ Fryderyk  M           59  PL           Summer\n",
       "  13 │ Ann       F           49  UK           Fall\n",
       "  14 │ Eva       F           50  BE           Winter\n",
       "  15 │ Ola       F           48  PL           Summer"
      ]
     },
     "execution_count": 2,
     "metadata": {},
     "output_type": "execute_result"
    }
   ],
   "source": [
    "df = CSV.read(\"data/simple_data.csv\", DataFrame)"
   ]
  },
  {
   "cell_type": "code",
   "execution_count": 3,
   "metadata": {},
   "outputs": [
    {
     "data": {
      "text/plain": [
       "split (generic function with 1 method)"
      ]
     },
     "execution_count": 3,
     "metadata": {},
     "output_type": "execute_result"
    }
   ],
   "source": [
    "function split(x)\n",
    "    n_row = length(x) \n",
    "    n_train = trunc(Int, n_row * 0.6)\n",
    "    n_val = n_row - n_train\n",
    "    split_v = vcat(repeat([\"Train\"], n_train), repeat([\"Val\"], n_val))\n",
    "    return shuffle(split_v)\n",
    "end"
   ]
  },
  {
   "cell_type": "code",
   "execution_count": 4,
   "metadata": {},
   "outputs": [
    {
     "data": {
      "text/html": [
       "<div><div style = \"float: left;\"><span>15×6 DataFrame</span></div><div style = \"clear: both;\"></div></div><div class = \"data-frame\" style = \"overflow-x: scroll;\"><table class = \"data-frame\" style = \"margin-bottom: 6px;\"><thead><tr class = \"header\"><th class = \"rowNumber\" style = \"font-weight: bold; text-align: right;\">Row</th><th style = \"text-align: left;\">Name</th><th style = \"text-align: left;\">Sex</th><th style = \"text-align: left;\">Age</th><th style = \"text-align: left;\">Nationality</th><th style = \"text-align: left;\">FavoriteSeason</th><th style = \"text-align: left;\">Age_split</th></tr><tr class = \"subheader headerLastRow\"><th class = \"rowNumber\" style = \"font-weight: bold; text-align: right;\"></th><th title = \"String15\" style = \"text-align: left;\">String15</th><th title = \"String1\" style = \"text-align: left;\">String1</th><th title = \"Int64\" style = \"text-align: left;\">Int64</th><th title = \"String3\" style = \"text-align: left;\">String3</th><th title = \"String7\" style = \"text-align: left;\">String7</th><th title = \"String\" style = \"text-align: left;\">String</th></tr></thead><tbody><tr><td class = \"rowNumber\" style = \"font-weight: bold; text-align: right;\">1</td><td style = \"text-align: left;\">Alice</td><td style = \"text-align: left;\">F</td><td style = \"text-align: right;\">23</td><td style = \"text-align: left;\">UK</td><td style = \"text-align: left;\">Fall</td><td style = \"text-align: left;\">Val</td></tr><tr><td class = \"rowNumber\" style = \"font-weight: bold; text-align: right;\">2</td><td style = \"text-align: left;\">Bob</td><td style = \"text-align: left;\">M</td><td style = \"text-align: right;\">50</td><td style = \"text-align: left;\">UK</td><td style = \"text-align: left;\">Winter</td><td style = \"text-align: left;\">Train</td></tr><tr><td class = \"rowNumber\" style = \"font-weight: bold; text-align: right;\">3</td><td style = \"text-align: left;\">Cecily</td><td style = \"text-align: left;\">F</td><td style = \"text-align: right;\">46</td><td style = \"text-align: left;\">BE</td><td style = \"text-align: left;\">Spring</td><td style = \"text-align: left;\">Val</td></tr><tr><td class = \"rowNumber\" style = \"font-weight: bold; text-align: right;\">4</td><td style = \"text-align: left;\">Dan</td><td style = \"text-align: left;\">M</td><td style = \"text-align: right;\">37</td><td style = \"text-align: left;\">BE</td><td style = \"text-align: left;\">Fall</td><td style = \"text-align: left;\">Val</td></tr><tr><td class = \"rowNumber\" style = \"font-weight: bold; text-align: right;\">5</td><td style = \"text-align: left;\">Eve</td><td style = \"text-align: left;\">F</td><td style = \"text-align: right;\">37</td><td style = \"text-align: left;\">UK</td><td style = \"text-align: left;\">Summer</td><td style = \"text-align: left;\">Train</td></tr><tr><td class = \"rowNumber\" style = \"font-weight: bold; text-align: right;\">6</td><td style = \"text-align: left;\">Felix</td><td style = \"text-align: left;\">M</td><td style = \"text-align: right;\">54</td><td style = \"text-align: left;\">PL</td><td style = \"text-align: left;\">Winter</td><td style = \"text-align: left;\">Val</td></tr><tr><td class = \"rowNumber\" style = \"font-weight: bold; text-align: right;\">7</td><td style = \"text-align: left;\">George</td><td style = \"text-align: left;\">M</td><td style = \"text-align: right;\">23</td><td style = \"text-align: left;\">BE</td><td style = \"text-align: left;\">Summer</td><td style = \"text-align: left;\">Train</td></tr><tr><td class = \"rowNumber\" style = \"font-weight: bold; text-align: right;\">8</td><td style = \"text-align: left;\">Jan</td><td style = \"text-align: left;\">M</td><td style = \"text-align: right;\">47</td><td style = \"text-align: left;\">PL</td><td style = \"text-align: left;\">Spring</td><td style = \"text-align: left;\">Train</td></tr><tr><td class = \"rowNumber\" style = \"font-weight: bold; text-align: right;\">9</td><td style = \"text-align: left;\">Małgosia</td><td style = \"text-align: left;\">F</td><td style = \"text-align: right;\">28</td><td style = \"text-align: left;\">PL</td><td style = \"text-align: left;\">Fall</td><td style = \"text-align: left;\">Train</td></tr><tr><td class = \"rowNumber\" style = \"font-weight: bold; text-align: right;\">10</td><td style = \"text-align: left;\">John</td><td style = \"text-align: left;\">M</td><td style = \"text-align: right;\">23</td><td style = \"text-align: left;\">UK</td><td style = \"text-align: left;\">Fall</td><td style = \"text-align: left;\">Val</td></tr><tr><td class = \"rowNumber\" style = \"font-weight: bold; text-align: right;\">11</td><td style = \"text-align: left;\">Bart</td><td style = \"text-align: left;\">M</td><td style = \"text-align: right;\">41</td><td style = \"text-align: left;\">BE</td><td style = \"text-align: left;\">Winter</td><td style = \"text-align: left;\">Train</td></tr><tr><td class = \"rowNumber\" style = \"font-weight: bold; text-align: right;\">12</td><td style = \"text-align: left;\">Fryderyk</td><td style = \"text-align: left;\">M</td><td style = \"text-align: right;\">59</td><td style = \"text-align: left;\">PL</td><td style = \"text-align: left;\">Summer</td><td style = \"text-align: left;\">Val</td></tr><tr><td class = \"rowNumber\" style = \"font-weight: bold; text-align: right;\">13</td><td style = \"text-align: left;\">Ann</td><td style = \"text-align: left;\">F</td><td style = \"text-align: right;\">49</td><td style = \"text-align: left;\">UK</td><td style = \"text-align: left;\">Fall</td><td style = \"text-align: left;\">Train</td></tr><tr><td class = \"rowNumber\" style = \"font-weight: bold; text-align: right;\">14</td><td style = \"text-align: left;\">Eva</td><td style = \"text-align: left;\">F</td><td style = \"text-align: right;\">50</td><td style = \"text-align: left;\">BE</td><td style = \"text-align: left;\">Winter</td><td style = \"text-align: left;\">Train</td></tr><tr><td class = \"rowNumber\" style = \"font-weight: bold; text-align: right;\">15</td><td style = \"text-align: left;\">Ola</td><td style = \"text-align: left;\">F</td><td style = \"text-align: right;\">48</td><td style = \"text-align: left;\">PL</td><td style = \"text-align: left;\">Summer</td><td style = \"text-align: left;\">Train</td></tr></tbody></table></div>"
      ],
      "text/latex": [
       "\\begin{tabular}{r|cccccc}\n",
       "\t& Name & Sex & Age & Nationality & FavoriteSeason & Age\\_split\\\\\n",
       "\t\\hline\n",
       "\t& String15 & String1 & Int64 & String3 & String7 & String\\\\\n",
       "\t\\hline\n",
       "\t1 & Alice & F & 23 & UK & Fall & Val \\\\\n",
       "\t2 & Bob & M & 50 & UK & Winter & Train \\\\\n",
       "\t3 & Cecily & F & 46 & BE & Spring & Val \\\\\n",
       "\t4 & Dan & M & 37 & BE & Fall & Val \\\\\n",
       "\t5 & Eve & F & 37 & UK & Summer & Train \\\\\n",
       "\t6 & Felix & M & 54 & PL & Winter & Val \\\\\n",
       "\t7 & George & M & 23 & BE & Summer & Train \\\\\n",
       "\t8 & Jan & M & 47 & PL & Spring & Train \\\\\n",
       "\t9 & Małgosia & F & 28 & PL & Fall & Train \\\\\n",
       "\t10 & John & M & 23 & UK & Fall & Val \\\\\n",
       "\t11 & Bart & M & 41 & BE & Winter & Train \\\\\n",
       "\t12 & Fryderyk & M & 59 & PL & Summer & Val \\\\\n",
       "\t13 & Ann & F & 49 & UK & Fall & Train \\\\\n",
       "\t14 & Eva & F & 50 & BE & Winter & Train \\\\\n",
       "\t15 & Ola & F & 48 & PL & Summer & Train \\\\\n",
       "\\end{tabular}\n"
      ],
      "text/plain": [
       "\u001b[1m15×6 DataFrame\u001b[0m\n",
       "\u001b[1m Row \u001b[0m│\u001b[1m Name     \u001b[0m\u001b[1m Sex     \u001b[0m\u001b[1m Age   \u001b[0m\u001b[1m Nationality \u001b[0m\u001b[1m FavoriteSeason \u001b[0m\u001b[1m Age_split \u001b[0m\n",
       "     │\u001b[90m String15 \u001b[0m\u001b[90m String1 \u001b[0m\u001b[90m Int64 \u001b[0m\u001b[90m String3     \u001b[0m\u001b[90m String7        \u001b[0m\u001b[90m String    \u001b[0m\n",
       "─────┼──────────────────────────────────────────────────────────────────\n",
       "   1 │ Alice     F           23  UK           Fall            Val\n",
       "   2 │ Bob       M           50  UK           Winter          Train\n",
       "   3 │ Cecily    F           46  BE           Spring          Val\n",
       "   4 │ Dan       M           37  BE           Fall            Val\n",
       "   5 │ Eve       F           37  UK           Summer          Train\n",
       "   6 │ Felix     M           54  PL           Winter          Val\n",
       "   7 │ George    M           23  BE           Summer          Train\n",
       "   8 │ Jan       M           47  PL           Spring          Train\n",
       "   9 │ Małgosia  F           28  PL           Fall            Train\n",
       "  10 │ John      M           23  UK           Fall            Val\n",
       "  11 │ Bart      M           41  BE           Winter          Train\n",
       "  12 │ Fryderyk  M           59  PL           Summer          Val\n",
       "  13 │ Ann       F           49  UK           Fall            Train\n",
       "  14 │ Eva       F           50  BE           Winter          Train\n",
       "  15 │ Ola       F           48  PL           Summer          Train"
      ]
     },
     "execution_count": 4,
     "metadata": {},
     "output_type": "execute_result"
    }
   ],
   "source": [
    "transform(groupby(df, \"Nationality\"), :Age => split)"
   ]
  },
  {
   "cell_type": "markdown",
   "metadata": {},
   "source": [
    "## Benchmark"
   ]
  },
  {
   "cell_type": "code",
   "execution_count": 5,
   "metadata": {},
   "outputs": [
    {
     "data": {
      "text/plain": [
       "to_bench (generic function with 1 method)"
      ]
     },
     "execution_count": 5,
     "metadata": {},
     "output_type": "execute_result"
    }
   ],
   "source": [
    "function to_bench()\n",
    "    df = CSV.read(\"data/simple_data_copied.csv\", DataFrame)\n",
    "    transform(groupby(df, \"Nationality\"), :Age => split)\n",
    "end"
   ]
  },
  {
   "cell_type": "code",
   "execution_count": 6,
   "metadata": {},
   "outputs": [
    {
     "name": "stdout",
     "output_type": "stream",
     "text": [
      "  2.282674 seconds (256.48 k allocations: 255.393 MiB, 2.80% gc time, 11.45% compilation time)\n"
     ]
    },
    {
     "data": {
      "text/html": [
       "<div><div style = \"float: left;\"><span>1500000×6 DataFrame</span></div><div style = \"float: right;\"><span style = \"font-style: italic;\">1499975 rows omitted</span></div><div style = \"clear: both;\"></div></div><div class = \"data-frame\" style = \"overflow-x: scroll;\"><table class = \"data-frame\" style = \"margin-bottom: 6px;\"><thead><tr class = \"header\"><th class = \"rowNumber\" style = \"font-weight: bold; text-align: right;\">Row</th><th style = \"text-align: left;\">Name</th><th style = \"text-align: left;\">Sex</th><th style = \"text-align: left;\">Age</th><th style = \"text-align: left;\">Nationality</th><th style = \"text-align: left;\">FavoriteSeason</th><th style = \"text-align: left;\">Age_split</th></tr><tr class = \"subheader headerLastRow\"><th class = \"rowNumber\" style = \"font-weight: bold; text-align: right;\"></th><th title = \"String15\" style = \"text-align: left;\">String15</th><th title = \"String1\" style = \"text-align: left;\">String1</th><th title = \"Int64\" style = \"text-align: left;\">Int64</th><th title = \"String3\" style = \"text-align: left;\">String3</th><th title = \"String7\" style = \"text-align: left;\">String7</th><th title = \"String\" style = \"text-align: left;\">String</th></tr></thead><tbody><tr><td class = \"rowNumber\" style = \"font-weight: bold; text-align: right;\">1</td><td style = \"text-align: left;\">Alice</td><td style = \"text-align: left;\">F</td><td style = \"text-align: right;\">23</td><td style = \"text-align: left;\">UK</td><td style = \"text-align: left;\">Fall</td><td style = \"text-align: left;\">Train</td></tr><tr><td class = \"rowNumber\" style = \"font-weight: bold; text-align: right;\">2</td><td style = \"text-align: left;\">Bob</td><td style = \"text-align: left;\">M</td><td style = \"text-align: right;\">50</td><td style = \"text-align: left;\">UK</td><td style = \"text-align: left;\">Winter</td><td style = \"text-align: left;\">Train</td></tr><tr><td class = \"rowNumber\" style = \"font-weight: bold; text-align: right;\">3</td><td style = \"text-align: left;\">Cecily</td><td style = \"text-align: left;\">F</td><td style = \"text-align: right;\">46</td><td style = \"text-align: left;\">BE</td><td style = \"text-align: left;\">Spring</td><td style = \"text-align: left;\">Val</td></tr><tr><td class = \"rowNumber\" style = \"font-weight: bold; text-align: right;\">4</td><td style = \"text-align: left;\">Dan</td><td style = \"text-align: left;\">M</td><td style = \"text-align: right;\">37</td><td style = \"text-align: left;\">BE</td><td style = \"text-align: left;\">Fall</td><td style = \"text-align: left;\">Train</td></tr><tr><td class = \"rowNumber\" style = \"font-weight: bold; text-align: right;\">5</td><td style = \"text-align: left;\">Eve</td><td style = \"text-align: left;\">F</td><td style = \"text-align: right;\">37</td><td style = \"text-align: left;\">UK</td><td style = \"text-align: left;\">Summer</td><td style = \"text-align: left;\">Val</td></tr><tr><td class = \"rowNumber\" style = \"font-weight: bold; text-align: right;\">6</td><td style = \"text-align: left;\">Felix</td><td style = \"text-align: left;\">M</td><td style = \"text-align: right;\">54</td><td style = \"text-align: left;\">PL</td><td style = \"text-align: left;\">Winter</td><td style = \"text-align: left;\">Train</td></tr><tr><td class = \"rowNumber\" style = \"font-weight: bold; text-align: right;\">7</td><td style = \"text-align: left;\">George</td><td style = \"text-align: left;\">M</td><td style = \"text-align: right;\">23</td><td style = \"text-align: left;\">BE</td><td style = \"text-align: left;\">Summer</td><td style = \"text-align: left;\">Train</td></tr><tr><td class = \"rowNumber\" style = \"font-weight: bold; text-align: right;\">8</td><td style = \"text-align: left;\">Jan</td><td style = \"text-align: left;\">M</td><td style = \"text-align: right;\">47</td><td style = \"text-align: left;\">PL</td><td style = \"text-align: left;\">Spring</td><td style = \"text-align: left;\">Val</td></tr><tr><td class = \"rowNumber\" style = \"font-weight: bold; text-align: right;\">9</td><td style = \"text-align: left;\">Małgosia</td><td style = \"text-align: left;\">F</td><td style = \"text-align: right;\">28</td><td style = \"text-align: left;\">PL</td><td style = \"text-align: left;\">Fall</td><td style = \"text-align: left;\">Val</td></tr><tr><td class = \"rowNumber\" style = \"font-weight: bold; text-align: right;\">10</td><td style = \"text-align: left;\">John</td><td style = \"text-align: left;\">M</td><td style = \"text-align: right;\">23</td><td style = \"text-align: left;\">UK</td><td style = \"text-align: left;\">Fall</td><td style = \"text-align: left;\">Val</td></tr><tr><td class = \"rowNumber\" style = \"font-weight: bold; text-align: right;\">11</td><td style = \"text-align: left;\">Bart</td><td style = \"text-align: left;\">M</td><td style = \"text-align: right;\">41</td><td style = \"text-align: left;\">BE</td><td style = \"text-align: left;\">Winter</td><td style = \"text-align: left;\">Train</td></tr><tr><td class = \"rowNumber\" style = \"font-weight: bold; text-align: right;\">12</td><td style = \"text-align: left;\">Fryderyk</td><td style = \"text-align: left;\">M</td><td style = \"text-align: right;\">59</td><td style = \"text-align: left;\">PL</td><td style = \"text-align: left;\">Summer</td><td style = \"text-align: left;\">Train</td></tr><tr><td class = \"rowNumber\" style = \"font-weight: bold; text-align: right;\">13</td><td style = \"text-align: left;\">Ann</td><td style = \"text-align: left;\">F</td><td style = \"text-align: right;\">49</td><td style = \"text-align: left;\">UK</td><td style = \"text-align: left;\">Fall</td><td style = \"text-align: left;\">Train</td></tr><tr><td style = \"text-align: right;\">&vellip;</td><td style = \"text-align: right;\">&vellip;</td><td style = \"text-align: right;\">&vellip;</td><td style = \"text-align: right;\">&vellip;</td><td style = \"text-align: right;\">&vellip;</td><td style = \"text-align: right;\">&vellip;</td><td style = \"text-align: right;\">&vellip;</td></tr><tr><td class = \"rowNumber\" style = \"font-weight: bold; text-align: right;\">1499989</td><td style = \"text-align: left;\">Dan</td><td style = \"text-align: left;\">M</td><td style = \"text-align: right;\">37</td><td style = \"text-align: left;\">BE</td><td style = \"text-align: left;\">Fall</td><td style = \"text-align: left;\">Val</td></tr><tr><td class = \"rowNumber\" style = \"font-weight: bold; text-align: right;\">1499990</td><td style = \"text-align: left;\">Eve</td><td style = \"text-align: left;\">F</td><td style = \"text-align: right;\">37</td><td style = \"text-align: left;\">UK</td><td style = \"text-align: left;\">Summer</td><td style = \"text-align: left;\">Train</td></tr><tr><td class = \"rowNumber\" style = \"font-weight: bold; text-align: right;\">1499991</td><td style = \"text-align: left;\">Felix</td><td style = \"text-align: left;\">M</td><td style = \"text-align: right;\">54</td><td style = \"text-align: left;\">PL</td><td style = \"text-align: left;\">Winter</td><td style = \"text-align: left;\">Train</td></tr><tr><td class = \"rowNumber\" style = \"font-weight: bold; text-align: right;\">1499992</td><td style = \"text-align: left;\">George</td><td style = \"text-align: left;\">M</td><td style = \"text-align: right;\">23</td><td style = \"text-align: left;\">BE</td><td style = \"text-align: left;\">Summer</td><td style = \"text-align: left;\">Val</td></tr><tr><td class = \"rowNumber\" style = \"font-weight: bold; text-align: right;\">1499993</td><td style = \"text-align: left;\">Jan</td><td style = \"text-align: left;\">M</td><td style = \"text-align: right;\">47</td><td style = \"text-align: left;\">PL</td><td style = \"text-align: left;\">Spring</td><td style = \"text-align: left;\">Train</td></tr><tr><td class = \"rowNumber\" style = \"font-weight: bold; text-align: right;\">1499994</td><td style = \"text-align: left;\">Małgosia</td><td style = \"text-align: left;\">F</td><td style = \"text-align: right;\">28</td><td style = \"text-align: left;\">PL</td><td style = \"text-align: left;\">Fall</td><td style = \"text-align: left;\">Train</td></tr><tr><td class = \"rowNumber\" style = \"font-weight: bold; text-align: right;\">1499995</td><td style = \"text-align: left;\">John</td><td style = \"text-align: left;\">M</td><td style = \"text-align: right;\">23</td><td style = \"text-align: left;\">UK</td><td style = \"text-align: left;\">Fall</td><td style = \"text-align: left;\">Train</td></tr><tr><td class = \"rowNumber\" style = \"font-weight: bold; text-align: right;\">1499996</td><td style = \"text-align: left;\">Bart</td><td style = \"text-align: left;\">M</td><td style = \"text-align: right;\">41</td><td style = \"text-align: left;\">BE</td><td style = \"text-align: left;\">Winter</td><td style = \"text-align: left;\">Train</td></tr><tr><td class = \"rowNumber\" style = \"font-weight: bold; text-align: right;\">1499997</td><td style = \"text-align: left;\">Fryderyk</td><td style = \"text-align: left;\">M</td><td style = \"text-align: right;\">59</td><td style = \"text-align: left;\">PL</td><td style = \"text-align: left;\">Summer</td><td style = \"text-align: left;\">Val</td></tr><tr><td class = \"rowNumber\" style = \"font-weight: bold; text-align: right;\">1499998</td><td style = \"text-align: left;\">Ann</td><td style = \"text-align: left;\">F</td><td style = \"text-align: right;\">49</td><td style = \"text-align: left;\">UK</td><td style = \"text-align: left;\">Fall</td><td style = \"text-align: left;\">Val</td></tr><tr><td class = \"rowNumber\" style = \"font-weight: bold; text-align: right;\">1499999</td><td style = \"text-align: left;\">Eva</td><td style = \"text-align: left;\">F</td><td style = \"text-align: right;\">50</td><td style = \"text-align: left;\">BE</td><td style = \"text-align: left;\">Winter</td><td style = \"text-align: left;\">Val</td></tr><tr><td class = \"rowNumber\" style = \"font-weight: bold; text-align: right;\">1500000</td><td style = \"text-align: left;\">Ola</td><td style = \"text-align: left;\">F</td><td style = \"text-align: right;\">48</td><td style = \"text-align: left;\">PL</td><td style = \"text-align: left;\">Summer</td><td style = \"text-align: left;\">Val</td></tr></tbody></table></div>"
      ],
      "text/latex": [
       "\\begin{tabular}{r|cccccc}\n",
       "\t& Name & Sex & Age & Nationality & FavoriteSeason & Age\\_split\\\\\n",
       "\t\\hline\n",
       "\t& String15 & String1 & Int64 & String3 & String7 & String\\\\\n",
       "\t\\hline\n",
       "\t1 & Alice & F & 23 & UK & Fall & Train \\\\\n",
       "\t2 & Bob & M & 50 & UK & Winter & Train \\\\\n",
       "\t3 & Cecily & F & 46 & BE & Spring & Val \\\\\n",
       "\t4 & Dan & M & 37 & BE & Fall & Train \\\\\n",
       "\t5 & Eve & F & 37 & UK & Summer & Val \\\\\n",
       "\t6 & Felix & M & 54 & PL & Winter & Train \\\\\n",
       "\t7 & George & M & 23 & BE & Summer & Train \\\\\n",
       "\t8 & Jan & M & 47 & PL & Spring & Val \\\\\n",
       "\t9 & Małgosia & F & 28 & PL & Fall & Val \\\\\n",
       "\t10 & John & M & 23 & UK & Fall & Val \\\\\n",
       "\t11 & Bart & M & 41 & BE & Winter & Train \\\\\n",
       "\t12 & Fryderyk & M & 59 & PL & Summer & Train \\\\\n",
       "\t13 & Ann & F & 49 & UK & Fall & Train \\\\\n",
       "\t14 & Eva & F & 50 & BE & Winter & Val \\\\\n",
       "\t15 & Ola & F & 48 & PL & Summer & Val \\\\\n",
       "\t16 & Alice & F & 23 & UK & Fall & Train \\\\\n",
       "\t17 & Bob & M & 50 & UK & Winter & Val \\\\\n",
       "\t18 & Cecily & F & 46 & BE & Spring & Train \\\\\n",
       "\t19 & Dan & M & 37 & BE & Fall & Val \\\\\n",
       "\t20 & Eve & F & 37 & UK & Summer & Train \\\\\n",
       "\t21 & Felix & M & 54 & PL & Winter & Train \\\\\n",
       "\t22 & George & M & 23 & BE & Summer & Train \\\\\n",
       "\t23 & Jan & M & 47 & PL & Spring & Train \\\\\n",
       "\t24 & Małgosia & F & 28 & PL & Fall & Train \\\\\n",
       "\t25 & John & M & 23 & UK & Fall & Val \\\\\n",
       "\t26 & Bart & M & 41 & BE & Winter & Val \\\\\n",
       "\t27 & Fryderyk & M & 59 & PL & Summer & Train \\\\\n",
       "\t28 & Ann & F & 49 & UK & Fall & Train \\\\\n",
       "\t29 & Eva & F & 50 & BE & Winter & Train \\\\\n",
       "\t30 & Ola & F & 48 & PL & Summer & Train \\\\\n",
       "\t$\\dots$ & $\\dots$ & $\\dots$ & $\\dots$ & $\\dots$ & $\\dots$ & $\\dots$ \\\\\n",
       "\\end{tabular}\n"
      ],
      "text/plain": [
       "\u001b[1m1500000×6 DataFrame\u001b[0m\n",
       "\u001b[1m     Row \u001b[0m│\u001b[1m Name     \u001b[0m\u001b[1m Sex     \u001b[0m\u001b[1m Age   \u001b[0m\u001b[1m Nationality \u001b[0m\u001b[1m FavoriteSeason \u001b[0m\u001b[1m Age_split \u001b[0m\n",
       "         │\u001b[90m String15 \u001b[0m\u001b[90m String1 \u001b[0m\u001b[90m Int64 \u001b[0m\u001b[90m String3     \u001b[0m\u001b[90m String7        \u001b[0m\u001b[90m String    \u001b[0m\n",
       "─────────┼──────────────────────────────────────────────────────────────────\n",
       "       1 │ Alice     F           23  UK           Fall            Train\n",
       "       2 │ Bob       M           50  UK           Winter          Train\n",
       "       3 │ Cecily    F           46  BE           Spring          Val\n",
       "       4 │ Dan       M           37  BE           Fall            Train\n",
       "       5 │ Eve       F           37  UK           Summer          Val\n",
       "       6 │ Felix     M           54  PL           Winter          Train\n",
       "       7 │ George    M           23  BE           Summer          Train\n",
       "       8 │ Jan       M           47  PL           Spring          Val\n",
       "       9 │ Małgosia  F           28  PL           Fall            Val\n",
       "      10 │ John      M           23  UK           Fall            Val\n",
       "      11 │ Bart      M           41  BE           Winter          Train\n",
       "    ⋮    │    ⋮         ⋮       ⋮         ⋮             ⋮             ⋮\n",
       " 1499991 │ Felix     M           54  PL           Winter          Train\n",
       " 1499992 │ George    M           23  BE           Summer          Val\n",
       " 1499993 │ Jan       M           47  PL           Spring          Train\n",
       " 1499994 │ Małgosia  F           28  PL           Fall            Train\n",
       " 1499995 │ John      M           23  UK           Fall            Train\n",
       " 1499996 │ Bart      M           41  BE           Winter          Train\n",
       " 1499997 │ Fryderyk  M           59  PL           Summer          Val\n",
       " 1499998 │ Ann       F           49  UK           Fall            Val\n",
       " 1499999 │ Eva       F           50  BE           Winter          Val\n",
       " 1500000 │ Ola       F           48  PL           Summer          Val\n",
       "\u001b[36m                                                        1499979 rows omitted\u001b[0m"
      ]
     },
     "execution_count": 6,
     "metadata": {},
     "output_type": "execute_result"
    }
   ],
   "source": [
    "@time begin\n",
    "    to_bench()\n",
    "end"
   ]
  },
  {
   "cell_type": "code",
   "execution_count": 7,
   "metadata": {},
   "outputs": [
    {
     "name": "stdout",
     "output_type": "stream",
     "text": [
      "  2.165204 seconds (9.55 k allocations: 242.515 MiB, 11.00% gc time, 0.62% compilation time)\n"
     ]
    },
    {
     "data": {
      "text/html": [
       "<div><div style = \"float: left;\"><span>1500000×6 DataFrame</span></div><div style = \"float: right;\"><span style = \"font-style: italic;\">1499975 rows omitted</span></div><div style = \"clear: both;\"></div></div><div class = \"data-frame\" style = \"overflow-x: scroll;\"><table class = \"data-frame\" style = \"margin-bottom: 6px;\"><thead><tr class = \"header\"><th class = \"rowNumber\" style = \"font-weight: bold; text-align: right;\">Row</th><th style = \"text-align: left;\">Name</th><th style = \"text-align: left;\">Sex</th><th style = \"text-align: left;\">Age</th><th style = \"text-align: left;\">Nationality</th><th style = \"text-align: left;\">FavoriteSeason</th><th style = \"text-align: left;\">Age_split</th></tr><tr class = \"subheader headerLastRow\"><th class = \"rowNumber\" style = \"font-weight: bold; text-align: right;\"></th><th title = \"String15\" style = \"text-align: left;\">String15</th><th title = \"String1\" style = \"text-align: left;\">String1</th><th title = \"Int64\" style = \"text-align: left;\">Int64</th><th title = \"String3\" style = \"text-align: left;\">String3</th><th title = \"String7\" style = \"text-align: left;\">String7</th><th title = \"String\" style = \"text-align: left;\">String</th></tr></thead><tbody><tr><td class = \"rowNumber\" style = \"font-weight: bold; text-align: right;\">1</td><td style = \"text-align: left;\">Alice</td><td style = \"text-align: left;\">F</td><td style = \"text-align: right;\">23</td><td style = \"text-align: left;\">UK</td><td style = \"text-align: left;\">Fall</td><td style = \"text-align: left;\">Val</td></tr><tr><td class = \"rowNumber\" style = \"font-weight: bold; text-align: right;\">2</td><td style = \"text-align: left;\">Bob</td><td style = \"text-align: left;\">M</td><td style = \"text-align: right;\">50</td><td style = \"text-align: left;\">UK</td><td style = \"text-align: left;\">Winter</td><td style = \"text-align: left;\">Train</td></tr><tr><td class = \"rowNumber\" style = \"font-weight: bold; text-align: right;\">3</td><td style = \"text-align: left;\">Cecily</td><td style = \"text-align: left;\">F</td><td style = \"text-align: right;\">46</td><td style = \"text-align: left;\">BE</td><td style = \"text-align: left;\">Spring</td><td style = \"text-align: left;\">Train</td></tr><tr><td class = \"rowNumber\" style = \"font-weight: bold; text-align: right;\">4</td><td style = \"text-align: left;\">Dan</td><td style = \"text-align: left;\">M</td><td style = \"text-align: right;\">37</td><td style = \"text-align: left;\">BE</td><td style = \"text-align: left;\">Fall</td><td style = \"text-align: left;\">Train</td></tr><tr><td class = \"rowNumber\" style = \"font-weight: bold; text-align: right;\">5</td><td style = \"text-align: left;\">Eve</td><td style = \"text-align: left;\">F</td><td style = \"text-align: right;\">37</td><td style = \"text-align: left;\">UK</td><td style = \"text-align: left;\">Summer</td><td style = \"text-align: left;\">Val</td></tr><tr><td class = \"rowNumber\" style = \"font-weight: bold; text-align: right;\">6</td><td style = \"text-align: left;\">Felix</td><td style = \"text-align: left;\">M</td><td style = \"text-align: right;\">54</td><td style = \"text-align: left;\">PL</td><td style = \"text-align: left;\">Winter</td><td style = \"text-align: left;\">Train</td></tr><tr><td class = \"rowNumber\" style = \"font-weight: bold; text-align: right;\">7</td><td style = \"text-align: left;\">George</td><td style = \"text-align: left;\">M</td><td style = \"text-align: right;\">23</td><td style = \"text-align: left;\">BE</td><td style = \"text-align: left;\">Summer</td><td style = \"text-align: left;\">Train</td></tr><tr><td class = \"rowNumber\" style = \"font-weight: bold; text-align: right;\">8</td><td style = \"text-align: left;\">Jan</td><td style = \"text-align: left;\">M</td><td style = \"text-align: right;\">47</td><td style = \"text-align: left;\">PL</td><td style = \"text-align: left;\">Spring</td><td style = \"text-align: left;\">Val</td></tr><tr><td class = \"rowNumber\" style = \"font-weight: bold; text-align: right;\">9</td><td style = \"text-align: left;\">Małgosia</td><td style = \"text-align: left;\">F</td><td style = \"text-align: right;\">28</td><td style = \"text-align: left;\">PL</td><td style = \"text-align: left;\">Fall</td><td style = \"text-align: left;\">Train</td></tr><tr><td class = \"rowNumber\" style = \"font-weight: bold; text-align: right;\">10</td><td style = \"text-align: left;\">John</td><td style = \"text-align: left;\">M</td><td style = \"text-align: right;\">23</td><td style = \"text-align: left;\">UK</td><td style = \"text-align: left;\">Fall</td><td style = \"text-align: left;\">Val</td></tr><tr><td class = \"rowNumber\" style = \"font-weight: bold; text-align: right;\">11</td><td style = \"text-align: left;\">Bart</td><td style = \"text-align: left;\">M</td><td style = \"text-align: right;\">41</td><td style = \"text-align: left;\">BE</td><td style = \"text-align: left;\">Winter</td><td style = \"text-align: left;\">Val</td></tr><tr><td class = \"rowNumber\" style = \"font-weight: bold; text-align: right;\">12</td><td style = \"text-align: left;\">Fryderyk</td><td style = \"text-align: left;\">M</td><td style = \"text-align: right;\">59</td><td style = \"text-align: left;\">PL</td><td style = \"text-align: left;\">Summer</td><td style = \"text-align: left;\">Train</td></tr><tr><td class = \"rowNumber\" style = \"font-weight: bold; text-align: right;\">13</td><td style = \"text-align: left;\">Ann</td><td style = \"text-align: left;\">F</td><td style = \"text-align: right;\">49</td><td style = \"text-align: left;\">UK</td><td style = \"text-align: left;\">Fall</td><td style = \"text-align: left;\">Val</td></tr><tr><td style = \"text-align: right;\">&vellip;</td><td style = \"text-align: right;\">&vellip;</td><td style = \"text-align: right;\">&vellip;</td><td style = \"text-align: right;\">&vellip;</td><td style = \"text-align: right;\">&vellip;</td><td style = \"text-align: right;\">&vellip;</td><td style = \"text-align: right;\">&vellip;</td></tr><tr><td class = \"rowNumber\" style = \"font-weight: bold; text-align: right;\">1499989</td><td style = \"text-align: left;\">Dan</td><td style = \"text-align: left;\">M</td><td style = \"text-align: right;\">37</td><td style = \"text-align: left;\">BE</td><td style = \"text-align: left;\">Fall</td><td style = \"text-align: left;\">Train</td></tr><tr><td class = \"rowNumber\" style = \"font-weight: bold; text-align: right;\">1499990</td><td style = \"text-align: left;\">Eve</td><td style = \"text-align: left;\">F</td><td style = \"text-align: right;\">37</td><td style = \"text-align: left;\">UK</td><td style = \"text-align: left;\">Summer</td><td style = \"text-align: left;\">Train</td></tr><tr><td class = \"rowNumber\" style = \"font-weight: bold; text-align: right;\">1499991</td><td style = \"text-align: left;\">Felix</td><td style = \"text-align: left;\">M</td><td style = \"text-align: right;\">54</td><td style = \"text-align: left;\">PL</td><td style = \"text-align: left;\">Winter</td><td style = \"text-align: left;\">Train</td></tr><tr><td class = \"rowNumber\" style = \"font-weight: bold; text-align: right;\">1499992</td><td style = \"text-align: left;\">George</td><td style = \"text-align: left;\">M</td><td style = \"text-align: right;\">23</td><td style = \"text-align: left;\">BE</td><td style = \"text-align: left;\">Summer</td><td style = \"text-align: left;\">Val</td></tr><tr><td class = \"rowNumber\" style = \"font-weight: bold; text-align: right;\">1499993</td><td style = \"text-align: left;\">Jan</td><td style = \"text-align: left;\">M</td><td style = \"text-align: right;\">47</td><td style = \"text-align: left;\">PL</td><td style = \"text-align: left;\">Spring</td><td style = \"text-align: left;\">Train</td></tr><tr><td class = \"rowNumber\" style = \"font-weight: bold; text-align: right;\">1499994</td><td style = \"text-align: left;\">Małgosia</td><td style = \"text-align: left;\">F</td><td style = \"text-align: right;\">28</td><td style = \"text-align: left;\">PL</td><td style = \"text-align: left;\">Fall</td><td style = \"text-align: left;\">Train</td></tr><tr><td class = \"rowNumber\" style = \"font-weight: bold; text-align: right;\">1499995</td><td style = \"text-align: left;\">John</td><td style = \"text-align: left;\">M</td><td style = \"text-align: right;\">23</td><td style = \"text-align: left;\">UK</td><td style = \"text-align: left;\">Fall</td><td style = \"text-align: left;\">Train</td></tr><tr><td class = \"rowNumber\" style = \"font-weight: bold; text-align: right;\">1499996</td><td style = \"text-align: left;\">Bart</td><td style = \"text-align: left;\">M</td><td style = \"text-align: right;\">41</td><td style = \"text-align: left;\">BE</td><td style = \"text-align: left;\">Winter</td><td style = \"text-align: left;\">Val</td></tr><tr><td class = \"rowNumber\" style = \"font-weight: bold; text-align: right;\">1499997</td><td style = \"text-align: left;\">Fryderyk</td><td style = \"text-align: left;\">M</td><td style = \"text-align: right;\">59</td><td style = \"text-align: left;\">PL</td><td style = \"text-align: left;\">Summer</td><td style = \"text-align: left;\">Val</td></tr><tr><td class = \"rowNumber\" style = \"font-weight: bold; text-align: right;\">1499998</td><td style = \"text-align: left;\">Ann</td><td style = \"text-align: left;\">F</td><td style = \"text-align: right;\">49</td><td style = \"text-align: left;\">UK</td><td style = \"text-align: left;\">Fall</td><td style = \"text-align: left;\">Val</td></tr><tr><td class = \"rowNumber\" style = \"font-weight: bold; text-align: right;\">1499999</td><td style = \"text-align: left;\">Eva</td><td style = \"text-align: left;\">F</td><td style = \"text-align: right;\">50</td><td style = \"text-align: left;\">BE</td><td style = \"text-align: left;\">Winter</td><td style = \"text-align: left;\">Train</td></tr><tr><td class = \"rowNumber\" style = \"font-weight: bold; text-align: right;\">1500000</td><td style = \"text-align: left;\">Ola</td><td style = \"text-align: left;\">F</td><td style = \"text-align: right;\">48</td><td style = \"text-align: left;\">PL</td><td style = \"text-align: left;\">Summer</td><td style = \"text-align: left;\">Train</td></tr></tbody></table></div>"
      ],
      "text/latex": [
       "\\begin{tabular}{r|cccccc}\n",
       "\t& Name & Sex & Age & Nationality & FavoriteSeason & Age\\_split\\\\\n",
       "\t\\hline\n",
       "\t& String15 & String1 & Int64 & String3 & String7 & String\\\\\n",
       "\t\\hline\n",
       "\t1 & Alice & F & 23 & UK & Fall & Val \\\\\n",
       "\t2 & Bob & M & 50 & UK & Winter & Train \\\\\n",
       "\t3 & Cecily & F & 46 & BE & Spring & Train \\\\\n",
       "\t4 & Dan & M & 37 & BE & Fall & Train \\\\\n",
       "\t5 & Eve & F & 37 & UK & Summer & Val \\\\\n",
       "\t6 & Felix & M & 54 & PL & Winter & Train \\\\\n",
       "\t7 & George & M & 23 & BE & Summer & Train \\\\\n",
       "\t8 & Jan & M & 47 & PL & Spring & Val \\\\\n",
       "\t9 & Małgosia & F & 28 & PL & Fall & Train \\\\\n",
       "\t10 & John & M & 23 & UK & Fall & Val \\\\\n",
       "\t11 & Bart & M & 41 & BE & Winter & Val \\\\\n",
       "\t12 & Fryderyk & M & 59 & PL & Summer & Train \\\\\n",
       "\t13 & Ann & F & 49 & UK & Fall & Val \\\\\n",
       "\t14 & Eva & F & 50 & BE & Winter & Val \\\\\n",
       "\t15 & Ola & F & 48 & PL & Summer & Val \\\\\n",
       "\t16 & Alice & F & 23 & UK & Fall & Train \\\\\n",
       "\t17 & Bob & M & 50 & UK & Winter & Train \\\\\n",
       "\t18 & Cecily & F & 46 & BE & Spring & Val \\\\\n",
       "\t19 & Dan & M & 37 & BE & Fall & Train \\\\\n",
       "\t20 & Eve & F & 37 & UK & Summer & Train \\\\\n",
       "\t21 & Felix & M & 54 & PL & Winter & Train \\\\\n",
       "\t22 & George & M & 23 & BE & Summer & Train \\\\\n",
       "\t23 & Jan & M & 47 & PL & Spring & Val \\\\\n",
       "\t24 & Małgosia & F & 28 & PL & Fall & Train \\\\\n",
       "\t25 & John & M & 23 & UK & Fall & Train \\\\\n",
       "\t26 & Bart & M & 41 & BE & Winter & Val \\\\\n",
       "\t27 & Fryderyk & M & 59 & PL & Summer & Train \\\\\n",
       "\t28 & Ann & F & 49 & UK & Fall & Val \\\\\n",
       "\t29 & Eva & F & 50 & BE & Winter & Val \\\\\n",
       "\t30 & Ola & F & 48 & PL & Summer & Train \\\\\n",
       "\t$\\dots$ & $\\dots$ & $\\dots$ & $\\dots$ & $\\dots$ & $\\dots$ & $\\dots$ \\\\\n",
       "\\end{tabular}\n"
      ],
      "text/plain": [
       "\u001b[1m1500000×6 DataFrame\u001b[0m\n",
       "\u001b[1m     Row \u001b[0m│\u001b[1m Name     \u001b[0m\u001b[1m Sex     \u001b[0m\u001b[1m Age   \u001b[0m\u001b[1m Nationality \u001b[0m\u001b[1m FavoriteSeason \u001b[0m\u001b[1m Age_split \u001b[0m\n",
       "         │\u001b[90m String15 \u001b[0m\u001b[90m String1 \u001b[0m\u001b[90m Int64 \u001b[0m\u001b[90m String3     \u001b[0m\u001b[90m String7        \u001b[0m\u001b[90m String    \u001b[0m\n",
       "─────────┼──────────────────────────────────────────────────────────────────\n",
       "       1 │ Alice     F           23  UK           Fall            Val\n",
       "       2 │ Bob       M           50  UK           Winter          Train\n",
       "       3 │ Cecily    F           46  BE           Spring          Train\n",
       "       4 │ Dan       M           37  BE           Fall            Train\n",
       "       5 │ Eve       F           37  UK           Summer          Val\n",
       "       6 │ Felix     M           54  PL           Winter          Train\n",
       "       7 │ George    M           23  BE           Summer          Train\n",
       "       8 │ Jan       M           47  PL           Spring          Val\n",
       "       9 │ Małgosia  F           28  PL           Fall            Train\n",
       "      10 │ John      M           23  UK           Fall            Val\n",
       "      11 │ Bart      M           41  BE           Winter          Val\n",
       "    ⋮    │    ⋮         ⋮       ⋮         ⋮             ⋮             ⋮\n",
       " 1499991 │ Felix     M           54  PL           Winter          Train\n",
       " 1499992 │ George    M           23  BE           Summer          Val\n",
       " 1499993 │ Jan       M           47  PL           Spring          Train\n",
       " 1499994 │ Małgosia  F           28  PL           Fall            Train\n",
       " 1499995 │ John      M           23  UK           Fall            Train\n",
       " 1499996 │ Bart      M           41  BE           Winter          Val\n",
       " 1499997 │ Fryderyk  M           59  PL           Summer          Val\n",
       " 1499998 │ Ann       F           49  UK           Fall            Val\n",
       " 1499999 │ Eva       F           50  BE           Winter          Train\n",
       " 1500000 │ Ola       F           48  PL           Summer          Train\n",
       "\u001b[36m                                                        1499979 rows omitted\u001b[0m"
      ]
     },
     "execution_count": 7,
     "metadata": {},
     "output_type": "execute_result"
    }
   ],
   "source": [
    "@time begin\n",
    "    to_bench()\n",
    "end"
   ]
  },
  {
   "cell_type": "code",
   "execution_count": 8,
   "metadata": {},
   "outputs": [],
   "source": [
    "using Pkg"
   ]
  },
  {
   "cell_type": "code",
   "execution_count": 9,
   "metadata": {},
   "outputs": [
    {
     "name": "stdout",
     "output_type": "stream",
     "text": [
      "\u001b[32m\u001b[1mStatus\u001b[22m\u001b[39m `~/.julia/environments/v1.8/Project.toml`\n",
      " \u001b[90m [336ed68f] \u001b[39mCSV v0.10.7\n",
      " \u001b[90m [c47d62df] \u001b[39mDAQP v0.3.2\n",
      "\u001b[32m⌃\u001b[39m\u001b[90m [a93c6f00] \u001b[39mDataFrames v1.4.2\n",
      " \u001b[90m [87dc4568] \u001b[39mHiGHS v1.2.0\n",
      " \u001b[90m [b99e6be6] \u001b[39mHypatia v0.7.1\n",
      " \u001b[90m [7073ff75] \u001b[39mIJulia v1.23.3\n",
      " \u001b[90m [4076af6c] \u001b[39mJuMP v1.4.0\n",
      " \u001b[90m [2f354839] \u001b[39mPajarito v0.8.0\n",
      "\u001b[32m⌃\u001b[39m\u001b[90m [91a5bcdd] \u001b[39mPlots v1.36.0\n",
      "\u001b[36m\u001b[1mInfo\u001b[22m\u001b[39m Packages marked with \u001b[32m⌃\u001b[39m have new versions available and may be upgradable.\n"
     ]
    }
   ],
   "source": [
    "Pkg.status()"
   ]
  },
  {
   "cell_type": "code",
   "execution_count": null,
   "metadata": {},
   "outputs": [],
   "source": []
  }
 ],
 "metadata": {
  "kernelspec": {
   "display_name": "Julia 1.8.2",
   "language": "julia",
   "name": "julia-1.8"
  },
  "language_info": {
   "file_extension": ".jl",
   "mimetype": "application/julia",
   "name": "julia",
   "version": "1.8.2"
  }
 },
 "nbformat": 4,
 "nbformat_minor": 2
}
